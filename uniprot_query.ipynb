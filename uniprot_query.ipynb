{
 "cells": [
  {
   "cell_type": "code",
   "execution_count": null,
   "metadata": {},
   "outputs": [],
   "source": [
    "import pandas as pd\n",
    "\n",
    "query_df=pd.DataFrame(columns=['Locus Tag','Entry'])\n",
    "query_df\n"
   ]
  },
  {
   "cell_type": "code",
   "execution_count": null,
   "metadata": {},
   "outputs": [],
   "source": [
    "with open('results/swissprot/1284.tsv') as f:\n",
    "    for line in f:\n",
    "        locus_tag=line[:14]\n",
    "        start=line.find('sp|')\n",
    "        end=line.find('|',start+3)\n",
    "        ID=line[start:end]\n",
    "        ID=ID.replace('sp|','')\n",
    "\n",
    "        new_row={'Locus Tag':locus_tag,'Entry':ID}\n",
    "        query_df=pd.concat([query_df,pd.DataFrame([new_row])])\n",
    "\n",
    "query_df.reset_index(drop=True,inplace=True)"
   ]
  },
  {
   "cell_type": "code",
   "execution_count": null,
   "metadata": {},
   "outputs": [],
   "source": [
    "query_df"
   ]
  },
  {
   "cell_type": "code",
   "execution_count": null,
   "metadata": {},
   "outputs": [],
   "source": [
    "df=pd.DataFrame(columns=['Entry','Protein names'])\n",
    "for i in query_df['Entry']:\n",
    "    url = 'https://rest.uniprot.org/uniprotkb/'+i+'.tsv'\n",
    "    df = pd.concat([df,pd.read_csv(url, sep='\\t',usecols=['Entry','Protein names'])])"
   ]
  },
  {
   "cell_type": "code",
   "execution_count": null,
   "metadata": {},
   "outputs": [],
   "source": [
    "query_df=query_df.merge(df,on='Entry',how='left')"
   ]
  },
  {
   "cell_type": "code",
   "execution_count": null,
   "metadata": {},
   "outputs": [],
   "source": [
    "with open('results/swissprot/1284_names.tsv','w') as f:\n",
    "    query_df.to_csv(f,index=False,sep='\\t')"
   ]
  }
 ],
 "metadata": {
  "kernelspec": {
   "display_name": "base",
   "language": "python",
   "name": "python3"
  },
  "language_info": {
   "codemirror_mode": {
    "name": "ipython",
    "version": 3
   },
   "file_extension": ".py",
   "mimetype": "text/x-python",
   "name": "python",
   "nbconvert_exporter": "python",
   "pygments_lexer": "ipython3",
   "version": "3.10.10"
  },
  "orig_nbformat": 4
 },
 "nbformat": 4,
 "nbformat_minor": 2
}

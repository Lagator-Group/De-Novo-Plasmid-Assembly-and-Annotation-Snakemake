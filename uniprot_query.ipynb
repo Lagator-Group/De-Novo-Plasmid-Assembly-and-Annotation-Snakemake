{
 "cells": [
  {
   "cell_type": "code",
<<<<<<< HEAD
   "execution_count": 18,
   "metadata": {},
   "outputs": [
    {
     "data": {
      "text/html": [
       "<div>\n",
       "<style scoped>\n",
       "    .dataframe tbody tr th:only-of-type {\n",
       "        vertical-align: middle;\n",
       "    }\n",
       "\n",
       "    .dataframe tbody tr th {\n",
       "        vertical-align: top;\n",
       "    }\n",
       "\n",
       "    .dataframe thead th {\n",
       "        text-align: right;\n",
       "    }\n",
       "</style>\n",
       "<table border=\"1\" class=\"dataframe\">\n",
       "  <thead>\n",
       "    <tr style=\"text-align: right;\">\n",
       "      <th></th>\n",
       "      <th>Locus Tag</th>\n",
       "      <th>Uniprot ID</th>\n",
       "    </tr>\n",
       "  </thead>\n",
       "  <tbody>\n",
       "  </tbody>\n",
       "</table>\n",
       "</div>"
      ],
      "text/plain": [
       "Empty DataFrame\n",
       "Columns: [Locus Tag, Uniprot ID]\n",
       "Index: []"
      ]
     },
     "execution_count": 18,
     "metadata": {},
     "output_type": "execute_result"
    }
   ],
   "source": [
    "import pandas as pd\n",
    "\n",
    "query_df=pd.DataFrame(columns=['Locus Tag','Uniprot ID'])\n",
=======
   "execution_count": null,
   "metadata": {},
   "outputs": [],
   "source": [
    "import pandas as pd\n",
    "\n",
    "query_df=pd.DataFrame(columns=['Locus Tag','Entry'])\n",
>>>>>>> look-up-hypothetical-proteins
    "query_df\n"
   ]
  },
  {
   "cell_type": "code",
<<<<<<< HEAD
   "execution_count": 20,
   "metadata": {},
   "outputs": [
    {
     "data": {
      "text/plain": [
       "14"
      ]
     },
     "execution_count": 20,
     "metadata": {},
     "output_type": "execute_result"
    }
   ],
   "source": [
    "len('HFLKKFIF_00001')"
   ]
  },
  {
   "cell_type": "code",
   "execution_count": 34,
=======
   "execution_count": null,
>>>>>>> look-up-hypothetical-proteins
   "metadata": {},
   "outputs": [],
   "source": [
    "with open('results/swissprot/1284.tsv') as f:\n",
    "    for line in f:\n",
    "        locus_tag=line[:14]\n",
    "        start=line.find('sp|')\n",
    "        end=line.find('|',start+3)\n",
    "        ID=line[start:end]\n",
    "        ID=ID.replace('sp|','')\n",
<<<<<<< HEAD
    "\n"
   ]
  },
  {
   "cell_type": "code",
   "execution_count": 36,
   "metadata": {},
   "outputs": [
    {
     "name": "stdout",
     "output_type": "stream",
     "text": [
      "HFLKKFIF_00150 P33790\n"
     ]
    }
   ],
   "source": [
    "print(locus_tag,ID)"
   ]
  },
  {
   "cell_type": "code",
   "execution_count": 3,
   "metadata": {},
   "outputs": [],
   "source": [
    "import requests\n",
    "\n",
    "url = \"https://rest.uniprot.org/uniprotkb/P06213.tsv\"  # Replace with the URL of the web page you want to download\n",
    "\n",
    "response = requests.get(url)\n",
    "content = response.content"
   ]
  },
  {
   "cell_type": "code",
   "execution_count": 4,
   "metadata": {},
   "outputs": [],
   "source": [
    "# Decode the bytes into a string\n",
    "text = content.decode()"
   ]
  },
  {
   "cell_type": "code",
   "execution_count": 14,
   "metadata": {},
   "outputs": [],
   "source": [
    "# Split the text into rows\n",
    "rows = text.split('\\n')\n",
    "\n",
    "# Split each row into columns\n",
    "data = [row.split('\\t') for row in rows]\n",
    "\n",
    "# Create the DataFrame\n",
    "df = pd.DataFrame(data)\n",
    "\n",
    "df.columns = df.iloc[0]\n",
    "\n",
    "# Drop the first row from the DataFrame\n",
    "df = df[1:]\n",
    "\n",
    "df=df[[\"Entry\",\"Protein names\"]]"
=======
    "\n",
    "        new_row={'Locus Tag':locus_tag,'Entry':ID}\n",
    "        query_df=pd.concat([query_df,pd.DataFrame([new_row])])\n",
    "\n",
    "query_df.reset_index(drop=True,inplace=True)"
>>>>>>> look-up-hypothetical-proteins
   ]
  },
  {
   "cell_type": "code",
   "execution_count": null,
   "metadata": {},
   "outputs": [],
<<<<<<< HEAD
   "source": []
=======
   "source": [
    "query_df"
   ]
  },
  {
   "cell_type": "code",
   "execution_count": null,
   "metadata": {},
   "outputs": [],
   "source": [
    "df=pd.DataFrame(columns=['Entry','Protein names'])\n",
    "for i in query_df['Entry']:\n",
    "    url = 'https://rest.uniprot.org/uniprotkb/'+i+'.tsv'\n",
    "    df = pd.concat([df,pd.read_csv(url, sep='\\t',usecols=['Entry','Protein names'])])"
   ]
  },
  {
   "cell_type": "code",
   "execution_count": null,
   "metadata": {},
   "outputs": [],
   "source": [
    "query_df=query_df.merge(df,on='Entry',how='left')"
   ]
  },
  {
   "cell_type": "code",
   "execution_count": null,
   "metadata": {},
   "outputs": [],
   "source": [
    "with open('results/swissprot/1284_names.tsv','w') as f:\n",
    "    query_df.to_csv(f,index=False,sep='\\t')"
   ]
>>>>>>> look-up-hypothetical-proteins
  }
 ],
 "metadata": {
  "kernelspec": {
   "display_name": "base",
   "language": "python",
   "name": "python3"
  },
  "language_info": {
   "codemirror_mode": {
    "name": "ipython",
    "version": 3
   },
   "file_extension": ".py",
   "mimetype": "text/x-python",
   "name": "python",
   "nbconvert_exporter": "python",
   "pygments_lexer": "ipython3",
   "version": "3.10.10"
  },
  "orig_nbformat": 4
 },
 "nbformat": 4,
 "nbformat_minor": 2
}

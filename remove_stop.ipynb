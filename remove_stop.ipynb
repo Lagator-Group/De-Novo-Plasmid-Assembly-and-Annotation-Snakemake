{
 "cells": [
  {
   "cell_type": "code",
   "execution_count": null,
   "metadata": {},
   "outputs": [],
   "source": [
    "file_in = 'prokka/AP019704.1/AP019704.1.faa'\n",
    "file_out = 'prokka_no_stop/AP019704.1.faa'\n",
    "\n",
    "with open(file_in,'r') as f:\n",
    "    data = f.read()\n",
    "    data = data.replace('*','')\n",
    "\n",
    "with open(file_out,'w') as f:\n",
    "    f.write(data)"
   ]
  }
 ],
 "metadata": {
  "language_info": {
   "name": "python"
  }
 },
 "nbformat": 4,
 "nbformat_minor": 2
}

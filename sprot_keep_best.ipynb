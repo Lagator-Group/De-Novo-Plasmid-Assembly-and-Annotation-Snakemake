{
 "cells": [
  {
   "cell_type": "code",
   "execution_count": 7,
   "metadata": {},
   "outputs": [],
   "source": [
    "import pandas as pd\n",
    "\n",
    "# Read the .tsv file into a DataFrame\n",
    "sprot_df = pd.read_csv('results/annotation/swissprot_1284.tsv', delimiter='\\t')"
   ]
  },
  {
   "cell_type": "code",
   "execution_count": 9,
   "metadata": {},
   "outputs": [],
   "source": [
    "tf_names=['transcription','repressor','activator','regulator']\n",
    "\n",
    "locus_tag_list=[]\n",
    "entry_list=[]\n",
    "protein_list=[]\n",
    "n=0\n",
    "_n=sprot_df.shape[0]\n",
    "\n",
    "while n<_n:\n",
    "    for name in tf_names:\n",
    "        if name in sprot_df.iloc[n]['Protein names']:\n",
    "            locus_tag_list.append(sprot_df.iloc[n]['Locus Tag'])\n",
    "            entry_list.append(sprot_df.iloc[n]['Entry'])\n",
    "            protein_list.append(sprot_df.iloc[n]['Protein names'])\n",
    "        else:\n",
    "            pass\n",
    "    n+=1\n",
    "tf_data={'Locus Tag':locus_tag_list,'Entry':entry_list,'Protein names':protein_list}\n",
    "tf_df=pd.DataFrame(tf_data)"
   ]
  },
  {
   "cell_type": "code",
   "execution_count": 10,
   "metadata": {},
   "outputs": [],
   "source": [
    "locus_tag_list=[]\n",
    "entry_list=[]\n",
    "protein_list=[]\n",
    "n=0\n",
    "_n=tf_df.shape[0]\n",
    "\n",
    "\n",
    "while n<_n:\n",
    "    if tf_df.iloc[n]['Locus Tag'] not in locus_tag_list:\n",
    "        locus_tag_list.append(tf_df.iloc[n]['Locus Tag'])\n",
    "        entry_list.append(tf_df.iloc[n]['Entry'])\n",
    "        protein_list.append(tf_df.iloc[n]['Protein names'])\n",
    "    else:\n",
    "        pass\n",
    "    n+=1\n",
    "\n",
    "best_data={'Locus Tag':locus_tag_list,'Entry':entry_list,'Protein names':protein_list}\n",
    "best_df=pd.DataFrame(best_data)"
   ]
  },
  {
   "cell_type": "code",
   "execution_count": 11,
   "metadata": {},
   "outputs": [],
   "source": [
    "with open('results/annotation/best_sprot_1284.tsv','w') as f:\n",
    "    best_df.to_csv(f,index=False,sep='\\t')"
   ]
  }
 ],
 "metadata": {
  "kernelspec": {
   "display_name": "base",
   "language": "python",
   "name": "python3"
  },
  "language_info": {
   "codemirror_mode": {
    "name": "ipython",
    "version": 3
   },
   "file_extension": ".py",
   "mimetype": "text/x-python",
   "name": "python",
   "nbconvert_exporter": "python",
   "pygments_lexer": "ipython3",
   "version": "3.10.10"
  },
  "orig_nbformat": 4
 },
 "nbformat": 4,
 "nbformat_minor": 2
}
